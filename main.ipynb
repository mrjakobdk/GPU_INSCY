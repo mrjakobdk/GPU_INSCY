{
 "cells": [
  {
   "cell_type": "code",
   "execution_count": 1,
   "metadata": {},
   "outputs": [
    {
     "name": "stdout",
     "output_type": "stream",
     "text": [
      "Compiling our c++/cuda code, this usually takes 1-2 min. \n",
      "Finished compilation, took: 69.4469s\n"
     ]
    }
   ],
   "source": [
    "import python.inscy as INSCY\n",
    "import time\n",
    "import matplotlib.pyplot as plt\n",
    "import numpy as np"
   ]
  },
  {
   "cell_type": "code",
   "execution_count": 11,
   "metadata": {},
   "outputs": [
    {
     "name": "stdout",
     "output_type": "stream",
     "text": [
      "Loading Glove...\n",
      "Finished loading Glove, took: 0.0111s\n",
      "Running INSCY on the CPU. \n",
      "\n",
      "Finished INSCY, took: 0.5752s\n",
      "\n",
      "Finished INSCY, took: 1.0156s\n",
      "\n",
      "Finished INSCY, took: 1.3547s\n",
      "\n",
      "Finished INSCY, took: 1.9567s\n",
      "\n",
      "Finished INSCY, took: 3.0867s\n",
      "\n",
      "Finished INSCY, took: 4.5791s\n",
      "\n",
      "Finished INSCY, took: 7.0601s\n",
      "\n",
      "Finished INSCY, took: 9.6342s\n",
      "\n",
      "Finished INSCY, took: 17.1294s\n",
      "\n"
     ]
    }
   ],
   "source": [
    "params={\"n\":300, \n",
    "        \"neighborhood_size\":0.15,\n",
    "        \"F\": 10.,\n",
    "        \"num_obj\" : 2,\n",
    "        \"subspace_size_min\" : 2,\n",
    "        \"subspace_size_max\" : 10}\n",
    "\n",
    "print(\"Loading Glove...\")\n",
    "t0 = time.time()\n",
    "X = INSCY.normalize(INSCY.load_glove(params[\"n\"], params[\"subspace_size_max\"]))\n",
    "print(\"Finished loading Glove, took: %.4fs\" % (time.time() - t0))\n",
    "\n",
    "print(\"Running INSCY on the CPU. \")\n",
    "print()\n",
    "subspace_sizes = list(range(params[\"subspace_size_min\"], params[\"subspace_size_max\"]+1))\n",
    "times = []\n",
    "for subspace_size in subspace_sizes:\n",
    "    t0 = time.time()\n",
    "    subspaces, clusterings = INSCY.run_cpu(X[:, :subspace_size], params[\"neighborhood_size\"], params[\"F\"], params[\"num_obj\"])\n",
    "    times.append(time.time() - t0)\n",
    "    print(\"Finished INSCY, took: %.4fs\" % (time.time() - t0))\n",
    "    print()\n",
    "\n",
    "np.savez('plot_data/inc_d_const_n=300_cpu.npz', subspace_sizes=subspace_sizes, times=times, params=params)"
   ]
  },
  {
   "cell_type": "code",
   "execution_count": null,
   "metadata": {},
   "outputs": [],
   "source": [
    "params={\"n\":300, \n",
    "        \"neighborhood_size\":0.15,\n",
    "        \"F\": 10.,\n",
    "        \"num_obj\" : 2,\n",
    "        \"subspace_size_min\" : 2,\n",
    "        \"subspace_size_max\" : 15}\n",
    "\n",
    "print(\"Loading Glove...\")\n",
    "t0 = time.time()\n",
    "X = INSCY.normalize(INSCY.load_glove(params[\"n\"], params[\"subspace_size_max\"]))\n",
    "print(\"Finished loading Glove, took: %.4fs\" % (time.time() - t0))\n",
    "\n",
    "print(\"Running INSCY on the CPU. \")\n",
    "print()\n",
    "subspace_sizes = list(range(params[\"subspace_size_min\"], params[\"subspace_size_max\"]+1))\n",
    "times = []\n",
    "for subspace_size in subspace_sizes:\n",
    "    t0 = time.time()\n",
    "    subspaces, clusterings = INSCY.run_cpu_gpu_mix(X[:, :subspace_size], params[\"neighborhood_size\"], params[\"F\"], params[\"num_obj\"])\n",
    "    times.append(time.time() - t0)\n",
    "    print(\"Finished INSCY, took: %.4fs\" % (time.time() - t0))\n",
    "    print()\n",
    "\n",
    "np.savez('plot_data/inc_d_const_n=300_mix.npz', subspace_sizes=subspace_sizes, times=times, params=params)"
   ]
  },
  {
   "cell_type": "code",
   "execution_count": 3,
   "metadata": {},
   "outputs": [
    {
     "data": {
      "image/png": "[encoded data removed]",
      "text/plain": [
       "<Figure size 432x288 with 1 Axes>"
      ]
     },
     "metadata": {
      "needs_background": "light"
     },
     "output_type": "display_data"
    }
   ],
   "source": [
    "data = np.load('plot_data/inc_d_const_n=300_cpu.npz', allow_pickle=True)\n",
    "subspace_sizes = data[\"subspace_sizes\"]\n",
    "times = data[\"times\"]\n",
    "plt.plot(subspace_sizes, times)\n",
    "\n",
    "data = np.load('plot_data/inc_d_const_n=300_mix.npz', allow_pickle=True)\n",
    "subspace_sizes = data[\"subspace_sizes\"]\n",
    "times = data[\"times\"]\n",
    "plt.plot(subspace_sizes, times)\n",
    "\n",
    "plt.ylabel('time in seconds')\n",
    "plt.xlabel('number of dimensions')\n",
    "plt.show()"
   ]
  },
  {
   "cell_type": "code",
   "execution_count": null,
   "metadata": {},
   "outputs": [],
   "source": []
  }
 ],
 "metadata": {
  "kernelspec": {
   "display_name": "Python 3",
   "language": "python",
   "name": "python3"
  },
  "language_info": {
   "codemirror_mode": {
    "name": "ipython",
    "version": 3
   },
   "file_extension": ".py",
   "mimetype": "text/x-python",
   "name": "python",
   "nbconvert_exporter": "python",
   "pygments_lexer": "ipython3",
   "version": "3.8.2"
  }
 },
 "nbformat": 4,
 "nbformat_minor": 4
}
